{
  "nbformat": 4,
  "nbformat_minor": 0,
  "metadata": {
    "colab": {
      "provenance": [],
      "authorship_tag": "ABX9TyOoBy3BZWety2H+Y0er5fRV",
      "include_colab_link": true
    },
    "kernelspec": {
      "name": "python3",
      "display_name": "Python 3"
    },
    "language_info": {
      "name": "python"
    }
  },
  "cells": [
    {
      "cell_type": "markdown",
      "metadata": {
        "id": "view-in-github",
        "colab_type": "text"
      },
      "source": [
        "<a href=\"https://colab.research.google.com/github/KellemAzevedo/Praticas-em-Python/blob/main/Curso_em_V%C3%ADdeo_Gustavo_Guanabara.ipynb\" target=\"_parent\"><img src=\"https://colab.research.google.com/assets/colab-badge.svg\" alt=\"Open In Colab\"/></a>"
      ]
    },
    {
      "cell_type": "markdown",
      "source": [
        "# 12 - Condições aninhadas  (if, elif e else)"
      ],
      "metadata": {
        "id": "qMm3AUWQB6ze"
      }
    },
    {
      "cell_type": "markdown",
      "source": [
        "## Desafio - 36"
      ],
      "metadata": {
        "id": "HpZHlYjlCUQ1"
      }
    },
    {
      "cell_type": "code",
      "source": [
        "'''\n",
        "Escreva um programa para aprovar um empréstimo bancário para a compra de uma\n",
        "casa. O programa vai perguntar qual o valor da casa, o salário do comprador e\n",
        "em quantos anos ele vai pagar.\n",
        "Calcule o valor da prestação mensal, sabendo que ela não pode exceder 30% do\n",
        "salário, ou então o empréstimo será negado.\n",
        "'''\n",
        "\n",
        "valor = float(input(f'Informe o valor da casa que deseja comprar: R$'))\n",
        "salario = float(input(f'Informe o valor do seu salário: R$'))\n",
        "anos = int(input(f'Informe em quantos anos deseja pagar: '))\n",
        "prestacao = valor / (anos*12)\n",
        "print(f'A prestação será de: R${prestacao:.2f}')\n",
        "if prestacao >= (salario * 0.3):\n",
        "  print(f'Empréstimo negado!')\n",
        "else:\n",
        "  print(f'Empréstimo aprovado!')"
      ],
      "metadata": {
        "colab": {
          "base_uri": "https://localhost:8080/"
        },
        "id": "QHqioGSVCYxh",
        "outputId": "c83064c7-7834-4987-c6ba-3d8108020602"
      },
      "execution_count": null,
      "outputs": [
        {
          "output_type": "stream",
          "name": "stdout",
          "text": [
            "Informe o valor da casa que deseja comprar: R$80000\n",
            "Informe o valor do seu salário: R$1600\n",
            "Informe em quantos anos deseja pagar: 7\n",
            "A prestação será de: R$952.38\n",
            "|Empréstimo negado!\n"
          ]
        }
      ]
    },
    {
      "cell_type": "markdown",
      "source": [
        "## Desafio - 38"
      ],
      "metadata": {
        "id": "jYoGhBqYCEs5"
      }
    },
    {
      "cell_type": "code",
      "execution_count": null,
      "metadata": {
        "colab": {
          "base_uri": "https://localhost:8080/"
        },
        "id": "Q7F3JKan6vZ_",
        "outputId": "53531e21-a2f6-4a9b-d7a0-cd7d10ee5ef1"
      },
      "outputs": [
        {
          "output_type": "stream",
          "name": "stdout",
          "text": [
            "Insira um número inteiro: 3\n",
            "Insira outro número inteiro: 4\n",
            "O segundo valor é maior\n"
          ]
        }
      ],
      "source": [
        "'''\n",
        "Escreva um programa que leia dois números inteiros e compare-os,\n",
        "mostrandos na tela uma mensagem:\n",
        "- O primeiro valor é maior\n",
        "- O segundo valor é maior\n",
        "- Não existe valor maior, os dois são iguais\n",
        "'''\n",
        "n1 = int(input(f'Insira um número inteiro: '))\n",
        "n2 = int(input(f'Insira outro número inteiro: '))\n",
        "\n",
        "if n1 > n2:\n",
        "  print(f'O primeiro valor é maior')\n",
        "elif n1 < n2:\n",
        "  print(f'O segundo valor é maior')\n",
        "else:\n",
        "  print(f'Não existe valor maior, os dois são iguais')"
      ]
    },
    {
      "cell_type": "markdown",
      "source": [
        "## Desafio - 39"
      ],
      "metadata": {
        "id": "BqpPp8ZzH3dT"
      }
    },
    {
      "cell_type": "code",
      "source": [
        "'''\n",
        "Faça um programa que leia o ano de nascimento de um jovem e informe de acordo\n",
        "com sua idade:\n",
        "- Se ele ainda vai se alistar ao serviço militar\n",
        "- Se é a hora de ele se alistar ao serviço militar\n",
        "- Se já passou do tempo de alistamento\n",
        "Seu programa também deverá mostrar o tempo que falta ou que passou do prazo\n",
        "'''\n",
        "\n",
        "ano = int(input(f'Digite o ano do seu nascimento: '))\n",
        "idade = 2024 - ano\n",
        "\n",
        "if idade < 18:\n",
        "  tempo_rest = 18 - idade\n",
        "  print(f'Você ainda vai se alistar. Faltam {tempo_rest} anos')\n",
        "elif idade == 18:\n",
        "  print(f'É hora de você de alistar!')\n",
        "else:\n",
        "  tempo_exec = idade - 18\n",
        "  print(f'Você passou do tempo de se alistar, excedeu {tempo_exec} anos')"
      ],
      "metadata": {
        "colab": {
          "base_uri": "https://localhost:8080/"
        },
        "id": "FC8K_CkAIIS0",
        "outputId": "1806ffa5-b8e3-43c1-e0d0-49e9dc1fe529"
      },
      "execution_count": null,
      "outputs": [
        {
          "output_type": "stream",
          "name": "stdout",
          "text": [
            "Digite o ano do seu nascimento: 2010\n",
            "Você ainda vai se alistar. Faltam 4 anos\n"
          ]
        }
      ]
    },
    {
      "cell_type": "markdown",
      "source": [
        "# 13 - Estruturas de repetição (for)"
      ],
      "metadata": {
        "id": "BJvDl-a2hfyN"
      }
    },
    {
      "cell_type": "markdown",
      "source": [
        "## Desafio - 46"
      ],
      "metadata": {
        "id": "ciNTdPSght-T"
      }
    },
    {
      "cell_type": "code",
      "source": [
        "'''\n",
        "Faça um programa que mostre na tela uma contagem regressiva para o estouro\n",
        "de fogos de artifício, indo de 0 até 10.\n",
        "'''\n",
        "for i in range(10, -1, -1):\n",
        "  print(i)\n",
        "print(f'FOGOS!')"
      ],
      "metadata": {
        "colab": {
          "base_uri": "https://localhost:8080/"
        },
        "id": "oDwOGFXEhoPE",
        "outputId": "b026db98-59d8-45ab-df11-2e2b3315fa88"
      },
      "execution_count": null,
      "outputs": [
        {
          "output_type": "stream",
          "name": "stdout",
          "text": [
            "10\n",
            "9\n",
            "8\n",
            "7\n",
            "6\n",
            "5\n",
            "4\n",
            "3\n",
            "2\n",
            "1\n",
            "0\n",
            "FOGOS!\n"
          ]
        }
      ]
    },
    {
      "cell_type": "markdown",
      "source": [
        "## Desafio - 47"
      ],
      "metadata": {
        "id": "0C6BHl2-jio1"
      }
    },
    {
      "cell_type": "code",
      "source": [
        "'''\n",
        "Crie um programa que mostre na tela todos os números pares que estão no\n",
        "intervalo entre 1 e 50.\n",
        "'''\n",
        "for i in range(1, 50):\n",
        "  if i % 2 == 0:\n",
        "    print(i)"
      ],
      "metadata": {
        "colab": {
          "base_uri": "https://localhost:8080/"
        },
        "id": "oDP6eBDMjoI-",
        "outputId": "bc37461e-38c4-4b12-8ceb-981077b32af4"
      },
      "execution_count": null,
      "outputs": [
        {
          "output_type": "stream",
          "name": "stdout",
          "text": [
            "2\n",
            "4\n",
            "6\n",
            "8\n",
            "10\n",
            "12\n",
            "14\n",
            "16\n",
            "18\n",
            "20\n",
            "22\n",
            "24\n",
            "26\n",
            "28\n",
            "30\n",
            "32\n",
            "34\n",
            "36\n",
            "38\n",
            "40\n",
            "42\n",
            "44\n",
            "46\n",
            "48\n"
          ]
        }
      ]
    },
    {
      "cell_type": "markdown",
      "source": [
        "## Desafio - 48"
      ],
      "metadata": {
        "id": "XHLja8ZClODa"
      }
    },
    {
      "cell_type": "code",
      "source": [
        "'''\n",
        "Faça um programa que calcula a soma entre todos os números impares que são\n",
        "múltiplos de 3 e que se encontram no intervalo de 1 a 500\n",
        "'''\n",
        "soma = 0\n",
        "for i in range(1, 500):\n",
        "  if i % 3 == 0:\n",
        "    soma = soma + i\n",
        "print(soma)"
      ],
      "metadata": {
        "colab": {
          "base_uri": "https://localhost:8080/"
        },
        "id": "ImJrtWWylMo6",
        "outputId": "0a104c8c-6aad-4f4e-bce1-73533f2ae3f9"
      },
      "execution_count": null,
      "outputs": [
        {
          "output_type": "stream",
          "name": "stdout",
          "text": [
            "41583\n"
          ]
        }
      ]
    },
    {
      "cell_type": "markdown",
      "source": [
        "## Desafio - 50"
      ],
      "metadata": {
        "id": "DZh1wOaZpnO8"
      }
    },
    {
      "cell_type": "code",
      "source": [
        "'''\n",
        "Desenvolva um programa que leia seis números inteiros e mostre a soma apenas\n",
        "daqueles que forem pares. Se o valor digitado for impar, desconsidere-o.\n",
        "'''\n",
        "soma = 0\n",
        "for i in range(0, 6):\n",
        "  n = int(input('Digite um valor: '))\n",
        "  if n % 2 == 0:\n",
        "    soma += n\n",
        "print(f'A soma dos números pares é de {soma}')"
      ],
      "metadata": {
        "colab": {
          "base_uri": "https://localhost:8080/"
        },
        "id": "SM6oLrjbpmSS",
        "outputId": "02e4f8ec-b28f-4360-e103-a595ea628ece"
      },
      "execution_count": null,
      "outputs": [
        {
          "output_type": "stream",
          "name": "stdout",
          "text": [
            "Digite um valor: 3\n",
            "Digite um valor: 5\n",
            "Digite um valor: 7\n",
            "Digite um valor: 9\n",
            "Digite um valor: 1\n",
            "Digite um valor: 11\n",
            "A soma dos números pares é de 0\n"
          ]
        }
      ]
    },
    {
      "cell_type": "markdown",
      "source": [
        "## Desafio - 52"
      ],
      "metadata": {
        "id": "jtmf8zcMsN00"
      }
    },
    {
      "cell_type": "code",
      "source": [
        "'''\n",
        "Faça um programa que leia um número inteiro e diga se ele é ou não\n",
        "um número primo\n",
        "'''\n",
        "for i in range(1):\n",
        "  n = int(input('Digite um valor: '))\n",
        "  if n % n == 0 and n % 1 == 0:\n",
        "    print(f'Esse número é primo')\n",
        "  else:\n",
        "    print(f'Esse número não é primo')\n"
      ],
      "metadata": {
        "colab": {
          "base_uri": "https://localhost:8080/"
        },
        "id": "hGxmuQGrsTYS",
        "outputId": "c3288371-641d-4e8b-d4c9-5837fb597c42"
      },
      "execution_count": null,
      "outputs": [
        {
          "output_type": "stream",
          "name": "stdout",
          "text": [
            "Digite um valor: 2\n",
            "Esse número é primo\n"
          ]
        }
      ]
    }
  ]
}