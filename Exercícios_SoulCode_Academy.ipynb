{
  "nbformat": 4,
  "nbformat_minor": 0,
  "metadata": {
    "colab": {
      "provenance": [],
      "authorship_tag": "ABX9TyP47TSQK8mnq8twTcVPQWdc",
      "include_colab_link": true
    },
    "kernelspec": {
      "name": "python3",
      "display_name": "Python 3"
    },
    "language_info": {
      "name": "python"
    }
  },
  "cells": [
    {
      "cell_type": "markdown",
      "metadata": {
        "id": "view-in-github",
        "colab_type": "text"
      },
      "source": [
        "<a href=\"https://colab.research.google.com/github/KellemAzevedo/Praticas-em-Python/blob/main/Exerc%C3%ADcios_SoulCode_Academy.ipynb\" target=\"_parent\"><img src=\"https://colab.research.google.com/assets/colab-badge.svg\" alt=\"Open In Colab\"/></a>"
      ]
    },
    {
      "cell_type": "markdown",
      "source": [
        "# Exercício 01"
      ],
      "metadata": {
        "id": "OPDyJxWbLBKn"
      }
    },
    {
      "cell_type": "code",
      "execution_count": null,
      "metadata": {
        "colab": {
          "base_uri": "https://localhost:8080/"
        },
        "id": "mgzhCBH7GtyP",
        "outputId": "60c6ed76-f511-4931-f353-36cbcca7bc8e"
      },
      "outputs": [
        {
          "output_type": "stream",
          "name": "stdout",
          "text": [
            "Insira um número de 0 a 5:1\n",
            "O produto da lista é: celular\n",
            "O preço do produto é: R$2,000.00\n",
            "O número de vendas é: 500 unid.\n",
            "O estoque inicial é: 5000 unid.\n",
            "O valor de vendas desse produto é: R$1,000,000.00\n",
            "O estoque restante é: 4500 unid.\n"
          ]
        }
      ],
      "source": [
        "# Este código pede para o usuário inserir um número e o programa exibe todos os dados do produto correspondente\n",
        "\n",
        "produtos = ['monitor', 'celular', 'notebook', 'desktop', 'impressora', 'teclado']\n",
        "precos = [600, 2000, 5000, 3000, 1500, 200]\n",
        "vendas = [300, 500, 100, 700, 500, 1000]\n",
        "estoques = [5000] * 6\n",
        "\n",
        "i = int(input('Insira um número de 0 a 5:'))\n",
        "print(f'O produto da lista é: {produtos[i]}')\n",
        "print(f'O preço do produto é: R${precos[i]:,.2f}')\n",
        "print(f'O número de vendas é: {vendas[i]} unid.')\n",
        "print(f'O estoque inicial é: {estoques[i]} unid.')\n",
        "\n",
        "faturamento = precos[i]*vendas[i]\n",
        "print(f'O valor de vendas desse produto é: R${faturamento:,.2f}')\n",
        "\n",
        "estoque_rest = estoques[i]-vendas[i]\n",
        "print(f'O estoque restante é: {estoque_rest} unid.')"
      ]
    },
    {
      "cell_type": "markdown",
      "source": [
        "# Exercício 02"
      ],
      "metadata": {
        "id": "7_OBteQKIqPx"
      }
    },
    {
      "cell_type": "code",
      "execution_count": null,
      "metadata": {
        "colab": {
          "base_uri": "https://localhost:8080/"
        },
        "outputId": "e26dd9ad-2587-432f-feb2-690a270af4da",
        "id": "Rnd51pHoIF6O"
      },
      "outputs": [
        {
          "output_type": "stream",
          "name": "stdout",
          "text": [
            "Insira o nome do produto que deseja buscar:CELULAR\n",
            "O produto escolhido foi: celular\n",
            "O preço do produto é: R$2,000.00\n",
            "O número de vendas é: 500 unid.\n",
            "O estoque inicial é: 5000 unid.\n",
            "O valor de vendas desse produto é: R$1,000,000.00\n",
            "O estoque restante é: 4500 unid.\n"
          ]
        }
      ],
      "source": [
        "# Este código é o mesmo do anterior, com a diferença que neste, o usuário pode buscar pelo nome do produto\n",
        "\n",
        "produtos = ['monitor', 'celular', 'notebook', 'desktop', 'impressora', 'teclado']\n",
        "precos = [600, 2000, 5000, 3000, 1500, 200]\n",
        "vendas = [300, 500, 100, 700, 500, 1000]\n",
        "estoques = [5000] * 6\n",
        "\n",
        "i = produtos.index(input('Insira o nome do produto que deseja buscar:').lower())\n",
        "print(f'O produto escolhido foi: {produtos[i]}')\n",
        "print(f'O preço do produto é: R${precos[i]:,.2f}')\n",
        "print(f'O número de vendas é: {vendas[i]} unid.')\n",
        "print(f'O estoque inicial é: {estoques[i]} unid.')\n",
        "\n",
        "faturamento = precos[i]*vendas[i]\n",
        "print(f'O valor de vendas desse produto é: R${faturamento:,.2f}')\n",
        "\n",
        "estoque_rest = estoques[i]-vendas[i]\n",
        "print(f'O estoque restante é: {estoque_rest} unid.')"
      ]
    },
    {
      "cell_type": "markdown",
      "source": [
        "#Exercício 03"
      ],
      "metadata": {
        "id": "_0R9KLIniUet"
      }
    },
    {
      "cell_type": "code",
      "source": [
        "'''\n",
        "Este programa que recebe do usuário 1 ou mais notas, calcula a\n",
        "média aritmética delas e caso a média seja maior ou igual a 6 exibe a mensagem:\n",
        "Parabéns, você foi aprovado. Caso a média seja menor que 6 mas maior ou igual a\n",
        "4 exibe a mensagem: \"você está em recuperação\". Caso a média seja menor que 4\n",
        "exibe a mensagem: \"Infelizmente você não foi aprovado\" e caso a média seja igual\n",
        "a 10 exiba a mensagem: \"Parabéns você foi aprovado com nota máxima\".\n",
        "'''\n",
        "notas = input('Informe as notas de 0 a 10 separadas por espaços: ')\n",
        "notas = notas.split()\n",
        "for i, v in enumerate(notas):\n",
        "  notas[i] = float(v)\n",
        "media = sum(notas)/len(notas)\n",
        "print(media)\n",
        "if media == 10:\n",
        "  print('Parabéns você foi aprovado com nota máxima!')\n",
        "else:\n",
        "  if media >= 6:\n",
        "    print('Parabéns você foi aprovado!')\n",
        "  elif media >= 4:\n",
        "    print('Você ficou de recuperação!')\n",
        "  else:\n",
        "    print('Infelizmente você não foi aprovado!')"
      ],
      "metadata": {
        "id": "_mrd2pogieZi"
      },
      "execution_count": null,
      "outputs": []
    },
    {
      "cell_type": "markdown",
      "source": [
        "# Exercício 04"
      ],
      "metadata": {
        "id": "UKL37TRvwwnk"
      }
    },
    {
      "cell_type": "code",
      "source": [
        "'''\n",
        "Este programa recebe um número inteiro do usuário e verifica se o número\n",
        "informado é par ou ímpar, se for par imprime uma mensagem dizendo que o\n",
        "número é par e encerra o loop, caso seja ímpar exibe uma mensagem informando que\n",
        "o número não é par e pede para o usuário digitar outro número, até que o número\n",
        "digitado pelo usuário seja par.\n",
        "\n",
        "'''\n",
        "while True:\n",
        "  n = int(input(f'Insira um número inteiro: '))\n",
        "  if n % 2 == 0:\n",
        "    print(f'O número é par')\n",
        "    break\n",
        "  else:\n",
        "    print(f'O número não é par')"
      ],
      "metadata": {
        "id": "TOoKqNnOw5qh"
      },
      "execution_count": null,
      "outputs": []
    },
    {
      "cell_type": "markdown",
      "source": [
        "# Exercício 05"
      ],
      "metadata": {
        "id": "pReFr-jq_ov9"
      }
    },
    {
      "cell_type": "code",
      "source": [
        "'''\n",
        "Esse código que percorra as duas listas (nomes e idades) e verifique se a pessoa\n",
        "é maior ou menor de idade (18 anos), em seguida exibe uma mensagem\n",
        "com cada nome, sua idade e um texto informando se essa pessoa é maior ou menor\n",
        "de idade.\n",
        "'''\n",
        "nomes = ['Ana', 'Paula', 'Joana', 'Flavia', 'Maria', 'Alice']\n",
        "idades = [10, 25, 40, 17, 36, 8]\n",
        "\n",
        "for i in range(len(nomes)):\n",
        "  if idades[i] >= 18:\n",
        "    print(f'{nomes[i]} tem {idades[i]} anos e é maior de idade')\n",
        "  else:\n",
        "    print(f'{nomes[i]} tem {idades[i]} anos e é menor de idade')\n"
      ],
      "metadata": {
        "colab": {
          "base_uri": "https://localhost:8080/"
        },
        "id": "zVWB2rUI_zmr",
        "outputId": "67dd5625-b5a4-42d9-a542-a29a2b119ba7"
      },
      "execution_count": null,
      "outputs": [
        {
          "output_type": "stream",
          "name": "stdout",
          "text": [
            "Ana tem 10 anos e é menor de idade\n",
            "Paula tem 25 anos e é maior de idade\n",
            "Joana tem 40 anos e é maior de idade\n",
            "Flavia tem 17 anos e é menor de idade\n",
            "Maria tem 36 anos e é maior de idade\n",
            "Alice tem 8 anos e é menor de idade\n"
          ]
        }
      ]
    },
    {
      "cell_type": "markdown",
      "source": [
        "# Exercício 06"
      ],
      "metadata": {
        "id": "aMTkppVfW74Y"
      }
    },
    {
      "cell_type": "code",
      "source": [
        "'''\n",
        "Este código recebe do usuário o valor de um determinado produto e a informação\n",
        "se esse produto é nacional ou importado. Em seguida, retorna para o usuário o\n",
        "valor do imposto a pagar. Considerando que se o produto for nacional a alíquota\n",
        "de imposto é de 18% para valores até R$ 200,00 e 25% para valores acima de\n",
        "R$ 200,00. Agora se o produto for importado é isento para valores até R$ 200,00\n",
        "e pagará 35% para valores acima de R$ 200,00.\n",
        "'''\n",
        "valor = float(input('Informe o valor do produto em R$: '))\n",
        "nac = (input('O produto é nacional? 1 para sim ou 2 para não: '))\n",
        "\n",
        "while nac == '1':\n",
        "  if valor <= 200.0:\n",
        "    imposto = valor * 0.18\n",
        "    print(f'A taxa do imposto é 18% e o valor será de R${imposto:.2f}')\n",
        "    break\n",
        "  else:\n",
        "    imposto = valor * 0.25\n",
        "    print(f'A taxa do imposto é 25% e o valor será de R${imposto:.2f}')\n",
        "    break\n",
        "\n",
        "while nac == '2':\n",
        "  if valor <= 200.0:\n",
        "    print(f'O imposto é isento')\n",
        "    break\n",
        "  else:\n",
        "    imposto = valor * 0.35\n",
        "    print(f'A taxa do imposto é 35% e o valor será de R${imposto:.2f}')\n",
        "    break"
      ],
      "metadata": {
        "colab": {
          "base_uri": "https://localhost:8080/"
        },
        "id": "aY6sJtCpGEJ1",
        "outputId": "b59c93d3-ef9c-43da-fba1-ca910aab25f7"
      },
      "execution_count": null,
      "outputs": [
        {
          "output_type": "stream",
          "name": "stdout",
          "text": [
            "Informe o valor do produto em R$: 200\n",
            "O produto é nacional? 1 para sim ou 2 para não: 1\n",
            "A taxa do imposto é 18% e o valor será de R$36.00\n"
          ]
        }
      ]
    },
    {
      "cell_type": "markdown",
      "source": [
        "# Exercicio 07"
      ],
      "metadata": {
        "id": "FVA211iNXJ7E"
      }
    },
    {
      "cell_type": "code",
      "source": [
        "# Calcula o Coeficiente de Pearson\n",
        "'''\n",
        "PASSO 1: Elabore um programa que receba do usuários duas sequencias de números\n",
        "com igual quantidade sendo uma sequência em um único input e outra sequência em\n",
        "outro input único\n",
        "\n",
        "PASSO 2: Agora separe cada sequência em uma lista, exemplo: dadosx separado em\n",
        "uma lista camada x e dadosy em uma lista chamada y\n",
        "\n",
        "PASSO 3: Percorra cada uma das listas criadas e para cada valor encontrado\n",
        "converta-o em um tipo float\n",
        "\n",
        "PASSO 4:Agora crie três listas vazias, sendo xq, yq e xy e as preencha da\n",
        "sequinte forma:\n",
        "1 - xq: percorra a lista de x e para cada valor encontrado o eleve ao\n",
        "quadrado e guarde-o na lista xq\n",
        "2 - yq: percorra a lista de y e para cada valor encontrado o eleve ao\n",
        "quadrado e guarde-o na lista yq\n",
        "3 - xy:  percorra a lista de x e a de y e multiplique cada valor de x pelo\n",
        "seu valor de y correspondente e guarde os resultados na lista xy\n",
        "\n",
        "PASSO 5: Agora vamos criar uma variável que armazena resultado da lista, sendo:\n",
        "sx = soma dos valores da lista x\n",
        "sy = soma dos valores da lista y\n",
        "sxq = soma dos valores da lista xq\n",
        "syq = soma dos valores da lista yq\n",
        "sxy = soma dos valores da lista xy\n",
        "n = a quantidade de elementos de um das listas\n",
        "mediax = a média da lista x\n",
        "mediay = a média da lista y\n",
        "'''\n",
        "dadosx = input('Insira uma sequência de números separados por espaço: ')\n",
        "dadosy = input('''insiro outra sequência com a mesma quantidade de números\n",
        "separados por espaço: ''')\n",
        "\n",
        "x = dadosx.split()\n",
        "y = dadosy.split()\n",
        "\n",
        "for i in range(len(x)):\n",
        "  x[i] = float(x[i])\n",
        "  y[i] = float(y[i])\n",
        "\n",
        "xq = []\n",
        "yq = []\n",
        "xy = []\n",
        "\n",
        "for v in range(len(x)):\n",
        "  xq.append(x[v]**2)\n",
        "  yq.append(y[v]**2)\n",
        "  xy.append(x[v]*y[v])\n",
        "\n",
        "sx = sum(x)\n",
        "sy = sum(y)\n",
        "sxq = sum(xq)\n",
        "syq = sum(yq)\n",
        "sxy = sum(xy)\n",
        "n = len(x)\n",
        "mediax = sx/n\n",
        "mediay = sy/n\n",
        "\n",
        "print(sx)\n",
        "print(sy)\n",
        "print(sxq)\n",
        "print(syq)\n",
        "print(sxy)\n",
        "print(n)\n",
        "print(mediax)\n",
        "print(mediay)\n",
        "\n",
        "beta = (sxy - (sx*sy/n)) / (sxq**2 / n)\n",
        "a = mediay - beta * mediax\n",
        "print(f'''A equação da reta de regressão linear\n",
        "simples é Y = {a:.2f} + {beta:.2f} * x''')"
      ],
      "metadata": {
        "colab": {
          "base_uri": "https://localhost:8080/"
        },
        "id": "Rm1Nz4NCW3rN",
        "outputId": "7f65658a-dd17-4937-c6a0-19cf23cc098a"
      },
      "execution_count": null,
      "outputs": [
        {
          "output_type": "stream",
          "name": "stdout",
          "text": [
            "Insira uma sequência de números separados por espaço: 1 2 3\n",
            "insiro outra sequência com a mesma quantidade de números \n",
            "separados por espaço: 4 5 6\n",
            "6.0\n",
            "15.0\n",
            "14.0\n",
            "77.0\n",
            "32.0\n",
            "3\n",
            "2.0\n",
            "5.0\n",
            "A equação da reta de regressão linear \n",
            "simples é Y = 4.94 + 0.03 * x\n"
          ]
        }
      ]
    },
    {
      "cell_type": "markdown",
      "source": [
        "# Exercício 08"
      ],
      "metadata": {
        "id": "MNS7FDalvgRf"
      }
    },
    {
      "cell_type": "code",
      "source": [
        "'''\n",
        "Este programa recebe do usuário em um único input uma sequência de números, e\n",
        "calcula e exibe:\n",
        "a) a média aritmética\n",
        "b) a variância\n",
        "c) o desvio padrão\n",
        "'''\n",
        "dados = input('Insira uma sequência de números separados por espaço: ')\n",
        "x = dados.split()\n",
        "n = len(x)\n",
        "\n",
        "for i in range(n):\n",
        "  x[i] = float(x[i])\n",
        "\n",
        "media = sum(x) / n\n",
        "\n",
        "quad = []\n",
        "for i in range(n):\n",
        "  quad.append((x[i] - media)**2)\n",
        "var = sum(quad)/(n-1)\n",
        "\n",
        "d_pad = var**(1/2)\n",
        "\n",
        "print(f'A média é {media:.2f}, a variância é {var:.2f} e o desvio padrão é {d_pad:.2f}')"
      ],
      "metadata": {
        "colab": {
          "base_uri": "https://localhost:8080/"
        },
        "id": "XnunY636vh0Y",
        "outputId": "2f5468dd-3c30-41df-d819-22464b19728c"
      },
      "execution_count": null,
      "outputs": [
        {
          "output_type": "stream",
          "name": "stdout",
          "text": [
            "Insira uma sequência de números separados por espaço: 5 9 7 6 8\n",
            "A média é 7.00, a variância é 2.50 e o desvio padrão é 1.58\n"
          ]
        }
      ]
    },
    {
      "cell_type": "markdown",
      "source": [
        "# Exercício 09\n",
        "\n",
        "\n"
      ],
      "metadata": {
        "id": "ub_94dvpKpg5"
      }
    },
    {
      "cell_type": "code",
      "source": [
        "'''\n",
        "Este programa recebe do usuário uma sequência de números e calcula a mediana\n",
        "'''\n",
        "dados = input('Insira uma sequência de números separados por espaço: ')\n",
        "x = dados.split()\n",
        "n = len(x)\n",
        "x = sorted(x)\n",
        "\n",
        "for i in range(n):\n",
        "  x[i] = float(x[i])\n",
        "\n",
        "if n % 2 != 0:\n",
        "  mediana = x[int((n+1)/2)-1]\n",
        "else:\n",
        "  mediana = (x[int(n/2)-1] + x[int(n/2)]) / 2\n",
        "\n",
        "print(f'A mediana é: {mediana}')"
      ],
      "metadata": {
        "colab": {
          "base_uri": "https://localhost:8080/"
        },
        "id": "gKrwm6-WKrJu",
        "outputId": "d0646979-c652-4352-ed0c-630c3d50a535"
      },
      "execution_count": null,
      "outputs": [
        {
          "output_type": "stream",
          "name": "stdout",
          "text": [
            "Insira uma sequência de números separados por espaço: 2 3 4\n",
            "A mediana é: 3.0\n"
          ]
        }
      ]
    },
    {
      "cell_type": "markdown",
      "source": [
        "# Exercício 10"
      ],
      "metadata": {
        "id": "HQEkGeO-trFi"
      }
    },
    {
      "cell_type": "code",
      "source": [
        "'''\n",
        "Essse programa elabora uma lista com todos os imcs e calcule também as medidas\n",
        "de estatística descritiva para todas as variáveis quantitativas.\n",
        "'''\n",
        "\n",
        "nome = ['Douglas','Maria','Daniela','Ana','Camila','Eduardo','Pedro','Fábio','Tobias','Joana',]\n",
        "idade = [19,25,34,21,29,33,47,39,40,29]\n",
        "peso = [80,55,44,55,57,58,87,99,70,59]\n",
        "altura = [1.88,1.67,1.74,1.67,1.67,1.68,1.58,1.78,1.88,1.67]\n",
        "\n",
        "imc = []\n",
        "for i in range(len(peso)):\n",
        "  imc.append(round(peso[i]/altura[i]**2,2))\n",
        "print(f'O IMC dos funcionarios é {imc}')\n",
        "print('---------------------------------------------------------------------------------------------')\n",
        "\n",
        "import numpy as np\n",
        "import statistics as st\n",
        "\n",
        "# Para o atributo IDADE:\n",
        "media_idades = np.mean(idade) # Indica a idade média dos funcionários\n",
        "mediana_idades = np.median(idade) #  Indica que 50% dos funcionários tem X anos de idade para mais e 50% tem idade para menos\n",
        "moda_idades = st.mode(idade) # Indica qual é a idade mais frequente entre os funcionários\n",
        "var_idades = np.var(idade, ddof=1) # Indica a variação média em torno da média.\n",
        "devp_idades = np.std(idade, ddof=1) # Indica o quanto é a dispersão em torno da média\n",
        "Q1_idades = np.quantile(idade, 0.25)\n",
        "Q2_idades = np.quantile(idade, 0.50)\n",
        "Q3_idades = np.quantile(idade, 0.75)\n",
        "min_idades = np.quantile(idade, 0)\n",
        "max_idades = np.quantile(idade, 1)\n",
        "aiq_idades = Q3_idades - Q1_idades\n",
        "LI_idades = Q1_idades - 1.5*aiq_idades\n",
        "LS_idades = Q3_idades + 1.5*aiq_idades\n",
        "print(f'A média de idade dos funcionários é de {media_idades}, a mediana é {mediana_idades:.2f} e a moda é {moda_idades:.2f}')\n",
        "print(f'A variância é de {var_idades:.2f} e o desvio padrão {devp_idades:.2f}')\n",
        "print(f'O 1º quartil é {Q1_idades}, o 2º quartil é {Q2_idades} e o 3º quartil é {Q3_idades}. O valor mínimo é {min_idades} e o máximo {max_idades}')\n",
        "print(f'Os valores LI e LS, respectivamente são {LI_idades:.2f} e {LS_idades:.2f}')\n",
        "print('---------------------------------------------------------------------------------------------')\n",
        "\n",
        "# Para o atributo PESO:\n",
        "media_peso = np.mean(peso)\n",
        "mediana_peso = np.median(peso)\n",
        "moda_peso = st.mode(peso)\n",
        "var_peso = np.var(peso, ddof=1)\n",
        "devp_peso = np.std(peso, ddof=1)\n",
        "Q1_peso = np.quantile(peso, 0.25)\n",
        "Q2_peso = np.quantile(peso, 0.50)\n",
        "Q3_peso = np.quantile(peso, 0.75)\n",
        "min_peso = np.quantile(peso, 0)\n",
        "max_peso = np.quantile(peso, 1)\n",
        "aiq_peso = Q3_peso - Q1_peso\n",
        "LI_peso = Q1_peso - 1.5*aiq_peso\n",
        "LS_peso = Q3_peso + 1.5*aiq_peso\n",
        "print(f'A média de peso dos funcionários é de {media_peso}, a mediana é {mediana_peso:.2f} e a moda é {moda_peso:.2f}')\n",
        "print(f'A variância é de {var_peso:.2f} e o desvio padrão {devp_peso:.2f}')\n",
        "print(f'O 1º quartil é {Q1_peso}, o 2º quartil é {Q2_peso} e o 3º quartil é {Q3_peso}. O valor mínimo é {min_peso} e o máximo {max_peso}')\n",
        "print(f'Os valores LI e LS, respectivamente são {LI_peso:.2f} e {LS_peso:.2f}')\n",
        "print('---------------------------------------------------------------------------------------------')\n",
        "\n",
        "# Para o atributo ALTURA:\n",
        "media_altura = np.mean(altura)\n",
        "mediana_altura = np.median(altura)\n",
        "moda_altura = st.mode(altura)\n",
        "var_altura = np.var(altura, ddof=1)\n",
        "devp_altura = np.std(altura, ddof=1)\n",
        "Q1_altura = np.quantile(altura, 0.25)\n",
        "Q2_altura = np.quantile(altura, 0.50)\n",
        "Q3_altura = np.quantile(altura, 0.75)\n",
        "min_altura = np.quantile(altura, 0)\n",
        "max_altura = np.quantile(altura, 1)\n",
        "aiq_altura = Q3_altura - Q1_altura\n",
        "LI_altura = Q1_altura - 1.5*aiq_altura\n",
        "LS_altura = Q3_altura + 1.5*aiq_altura\n",
        "print(f'A média de altura dos funcionários é de {media_altura}, a mediana é {mediana_altura:.2f} e a moda é {moda_altura:.2f}')\n",
        "print(f'A variância é de {var_altura:.2f} e o desvio padrão {devp_altura:.2f}')\n",
        "print(f'O 1º quartil é {Q1_altura}, o 2º quartil é {Q2_altura:.2f} e o 3º quartil é {Q3_altura}. O valor mínimo é {min_altura} e o máximo {max_altura}')\n",
        "print(f'Os valores LI e LS, respectivamente são {LI_altura:.2f} e {LS_altura:.2f}')\n",
        "print('---------------------------------------------------------------------------------------------')\n",
        "\n",
        "# Para o atributo IMC:\n",
        "media_imc = np.mean(imc)\n",
        "mediana_imc = np.median(imc)\n",
        "moda_imc = st.mode(imc)\n",
        "var_imc = np.var(imc, ddof=1)\n",
        "devp_imc = np.std(imc, ddof=1)\n",
        "Q1_imc = np.quantile(imc, 0.25)\n",
        "Q2_imc = np.quantile(imc, 0.50)\n",
        "Q3_imc = np.quantile(imc, 0.75)\n",
        "min_imc = np.quantile(imc, 0)\n",
        "max_imc = np.quantile(imc, 1)\n",
        "aiq_imc = Q3_imc - Q1_imc\n",
        "LI_imc = Q1_imc - 1.5 * aiq_imc\n",
        "LS_imc = Q3_imc + 1.5 * aiq_imc\n",
        "print(f'A média do IMC dos funcionários é de {media_imc}, a mediana é {mediana_imc:.2f} e a moda é {moda_imc:.2f}')\n",
        "print(f'A variância é de {var_imc:.2f} e o desvio padrão {devp_imc:.2f}')\n",
        "print(f'O 1º quartil é {Q1_imc}, o 2º quartil é {Q2_imc} e o 3º quartil é {Q3_imc}. O valor mínimo é {min_imc} e o máximo {max_imc}')\n",
        "print(f'Os valores LI e LS, respectivamente são {LI_imc:.2f} e {LS_imc:.2f}')\n",
        "print('---------------------------------------------------------------------------------------------')"
      ],
      "metadata": {
        "colab": {
          "base_uri": "https://localhost:8080/"
        },
        "id": "oVbi5D0gt2Xp",
        "outputId": "22b439b2-03c3-4a6b-fea6-44f0fc51d4f2"
      },
      "execution_count": null,
      "outputs": [
        {
          "output_type": "stream",
          "name": "stdout",
          "text": [
            "O IMC dos funcionarios é [22.63, 19.72, 14.53, 19.72, 20.44, 20.55, 34.85, 31.25, 19.81, 21.16]\n",
            "---------------------------------------------------------------------------------------------\n",
            "A média de idade dos funcionários é de 31.6, a mediana é 31.00 e a moda é 29.00\n",
            "A variância é de 77.60 e o desvio padrão 8.81\n",
            "O 1º quartil é 26.0, o 2º quartil é 31.0 e o 3º quartil é 37.75. O valor mínimo é 19 e o máximo 47\n",
            "Os valores LI e LS, respectivamente são 8.38 e 55.38\n",
            "---------------------------------------------------------------------------------------------\n",
            "A média de peso dos funcionários é de 66.4, a mediana é 58.50 e a moda é 55.00\n",
            "A variância é de 295.60 e o desvio padrão 17.19\n",
            "O 1º quartil é 55.5, o 2º quartil é 58.5 e o 3º quartil é 77.5. O valor mínimo é 44 e o máximo 99\n",
            "Os valores LI e LS, respectivamente são 22.50 e 110.50\n",
            "---------------------------------------------------------------------------------------------\n",
            "A média de altura dos funcionários é de 1.722, a mediana é 1.67 e a moda é 1.67\n",
            "A variância é de 0.01 e o desvio padrão 0.10\n",
            "O 1º quartil é 1.67, o 2º quartil é 1.67 e o 3º quartil é 1.77. O valor mínimo é 1.58 e o máximo 1.88\n",
            "Os valores LI e LS, respectivamente são 1.52 e 1.92\n",
            "---------------------------------------------------------------------------------------------\n",
            "A média do IMC dos funcionários é de 22.466, a mediana é 20.50 e a moda é 19.72\n",
            "A variância é de 36.13 e o desvio padrão 6.01\n",
            "O 1º quartil é 19.7425, o 2º quartil é 20.495 e o 3º quartil é 22.2625. O valor mínimo é 14.53 e o máximo 34.85\n",
            "Os valores LI e LS, respectivamente são 15.96 e 26.04\n",
            "---------------------------------------------------------------------------------------------\n"
          ]
        }
      ]
    }
  ]
}